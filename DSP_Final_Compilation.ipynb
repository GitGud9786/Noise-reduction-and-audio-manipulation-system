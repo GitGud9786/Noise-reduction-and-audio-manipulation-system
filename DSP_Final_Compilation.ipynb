{
  "nbformat": 4,
  "nbformat_minor": 0,
  "metadata": {
    "colab": {
      "provenance": []
    },
    "kernelspec": {
      "name": "python3",
      "display_name": "Python 3"
    },
    "language_info": {
      "name": "python"
    }
  },
  "cells": [
    {
      "cell_type": "markdown",
      "source": [
        "## **IMPORT LIBRARIES**"
      ],
      "metadata": {
        "id": "FqoZ7RVomWhY"
      }
    },
    {
      "cell_type": "code",
      "source": [
        "import numpy as np\n",
        "import librosa\n",
        "import soundfile as sf\n",
        "import matplotlib.pyplot as plt\n",
        "import numpy as np\n",
        "\n",
        "from IPython.display import Audio"
      ],
      "metadata": {
        "id": "BofcRDoCmFN5"
      },
      "execution_count": 1,
      "outputs": []
    },
    {
      "cell_type": "markdown",
      "source": [
        "## **AUDIO PLOTTER**"
      ],
      "metadata": {
        "id": "sCse72I7mPLX"
      }
    },
    {
      "cell_type": "code",
      "source": [
        "def plot_overlay_waveform(y_input, y_denoised, sr, title=\"Audio Comparison\"):\n",
        "\n",
        "    # Ensure same length\n",
        "    min_len = min(len(y_input), len(y_denoised))\n",
        "    y_input = y_input[:min_len]\n",
        "    y_denoised = y_denoised[:min_len]\n",
        "\n",
        "    # Time axis\n",
        "    t = np.arange(min_len) / sr\n",
        "\n",
        "    # Plot overlay\n",
        "    plt.figure(figsize=(12, 4))\n",
        "    plt.plot(t, y_input, alpha=0.6, label=\"Input (Noisy)\", color=\"red\")\n",
        "    plt.plot(t, y_denoised, alpha=0.8, label=\"Denoised\", color=\"blue\")\n",
        "    plt.xlabel(\"Time [s]\")\n",
        "    plt.ylabel(\"Amplitude\")\n",
        "    plt.title(title)\n",
        "    plt.legend()\n",
        "    plt.tight_layout()\n",
        "    plt.show()"
      ],
      "metadata": {
        "id": "_j5LOEgHmOYU"
      },
      "execution_count": 2,
      "outputs": []
    },
    {
      "cell_type": "markdown",
      "source": [
        "ALL NEW ADDITIONS GO BELOW HERE"
      ],
      "metadata": {
        "id": "5hbGYT_pvu9i"
      }
    },
    {
      "cell_type": "markdown",
      "source": [
        "## **WIENER FILTERING IMPLEMENTATION FOR STATIONARY NOISE**"
      ],
      "metadata": {
        "id": "AE59bPsRl74I"
      }
    },
    {
      "cell_type": "code",
      "execution_count": 3,
      "metadata": {
        "id": "ZWvg5BSilnx-"
      },
      "outputs": [],
      "source": [
        "def wiener_denoise(\n",
        "    input_path: str,\n",
        "    output_path: str,\n",
        "    noise_duration: float = 0.5,\n",
        "    n_fft: int = 1024,\n",
        "    hop_length: int = 512\n",
        "):\n",
        "\n",
        "    y_noisy, sr = librosa.load(input_path, sr=None)\n",
        "\n",
        "    D = librosa.stft(y_noisy, n_fft=n_fft, hop_length=hop_length)\n",
        "    magnitude, phase = np.abs(D), np.angle(D)\n",
        "\n",
        "    noise_frames = magnitude[:, :int(noise_duration * sr / hop_length)]\n",
        "    noise_power = np.mean(noise_frames**2, axis=1, keepdims=True)\n",
        "\n",
        "    signal_power = magnitude**2\n",
        "    alpha = 12\n",
        "    H = signal_power / (signal_power + (alpha * noise_power) + 1e-12)  # avoid divison by zero\n",
        "    D_denoised = H * D\n",
        "\n",
        "    y_denoised = librosa.istft(D_denoised, hop_length=hop_length)\n",
        "\n",
        "    sf.write(output_path, y_denoised, sr)\n",
        "    print(f\"[INFO] Denoised audio saved at: {output_path} with alpha = {alpha}\")\n",
        "\n",
        "    return y_denoised, sr"
      ]
    },
    {
      "cell_type": "markdown",
      "source": [
        "## **PERFORM WIENER FILTERING**"
      ],
      "metadata": {
        "id": "_D7bvY_2vGyJ"
      }
    },
    {
      "cell_type": "code",
      "source": [
        "from google.colab import files\n",
        "\n",
        "uploaded = files.upload()\n",
        "input_path = list(uploaded.keys())[0]\n",
        "\n",
        "y_denoised, sr = wiener_denoise(\n",
        "    input_path,\n",
        "    output_path=\"denoised_wiener_audio.wav\"\n",
        ")"
      ],
      "metadata": {
        "id": "LaVJnCHqmkr_"
      },
      "execution_count": null,
      "outputs": []
    },
    {
      "cell_type": "code",
      "source": [
        "Audio(\"Fan_Noise.wav\") #LISTEN TO NOISY AUDIO"
      ],
      "metadata": {
        "id": "8VsgKpPsu2W0"
      },
      "execution_count": null,
      "outputs": []
    },
    {
      "cell_type": "code",
      "source": [
        "Audio(\"denoised_wiener_audio.wav\") #LISTEN TO DENOISED AUDIO"
      ],
      "metadata": {
        "id": "XqMGsnnvuu0G"
      },
      "execution_count": null,
      "outputs": []
    }
  ]
}